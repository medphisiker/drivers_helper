{
 "cells": [
  {
   "cell_type": "markdown",
   "metadata": {},
   "source": [
    "# Results of all benchmark (yolov8s)\n",
    "\n",
    "результаты приведены для val части `Russian traffic sign images dataset (RSTD)` c `Kaggle` ([ссылка](https://www.kaggle.com/datasets/watchman/rtsd-dataset)) для детекции дорожных знаков России с сохранением 22 самых популярных классов дорожных знаков.\n",
    "\n",
    "| Device-CPU          | preprocess ms | inference ms | loss ms | postprocess ms | mask map50-95 | mask map50 | mask map75 | size Mb|\n",
    "|---------------------|---------------|--------------|---------|----------------|---------------|------------|------------|--------|\n",
    "| PyTorch fuse        | 0.1           | 37.0         | 0       | 0.3            | 0.742         | 0.97       | 0.893      | 21.5   |\n",
    "| ONNX                | 0.4           | 62.0         | 0       | 1.8            | 0.738         | 0.967      | 0.888      | 42.7   |\n",
    "| ONNX Simplify       | 0.3           | 66.8         | 0       | 0.8            | 0.738         | 0.967      | 0.888      | 42.6   |\n",
    "| ONNX Simplify half  | 0.4           | 62.7         | 0       | 0.9            | 0.738         | 0.967      | 0.888      | 42.6   |\n",
    "| OpenVino            | 0.3           | 45.1         | 0       | 0.4            | 0.738         | 0.967      | 0.888      | 42.8   |\n",
    "| OpenVino half       | 0.3           | 44.7         | 0       | 0.4            | 0.738         | 0.967      | 0.888      | 21.6   |\n"
   ]
  },
  {
   "cell_type": "markdown",
   "metadata": {},
   "source": [
    "# PyTorch Fuse"
   ]
  },
  {
   "cell_type": "code",
   "execution_count": 1,
   "metadata": {},
   "outputs": [
    {
     "name": "stdout",
     "output_type": "stream",
     "text": [
      "Ultralytics YOLOv8.0.212 🚀 Python-3.10.11 torch-1.13.0+cu117 CUDA:0 (NVIDIA A10, 24043MiB)\n",
      "Setup complete ✅ (12 CPUs, 31.1 GB RAM, 436.5/913.8 GB disk)\n"
     ]
    }
   ],
   "source": [
    "import ultralytics\n",
    "import shutil\n",
    "\n",
    "ultralytics.checks()"
   ]
  },
  {
   "cell_type": "code",
   "execution_count": 2,
   "metadata": {},
   "outputs": [
    {
     "name": "stdout",
     "output_type": "stream",
     "text": [
      "processor\t: 0\n",
      "vendor_id\t: GenuineIntel\n",
      "cpu family\t: 6\n",
      "model\t\t: 151\n",
      "model name\t: 12th Gen Intel(R) Core(TM) i5-12600\n",
      "stepping\t: 5\n",
      "microcode\t: 0x2e\n",
      "cpu MHz\t\t: 3300.000\n",
      "cache size\t: 18432 KB\n",
      "physical id\t: 0\n",
      "siblings\t: 12\n",
      "core id\t\t: 0\n",
      "cpu cores\t: 6\n",
      "apicid\t\t: 0\n",
      "initial apicid\t: 0\n",
      "fpu\t\t: yes\n",
      "fpu_exception\t: yes\n",
      "cpuid level\t: 32\n",
      "wp\t\t: yes\n",
      "flags\t\t: fpu vme de pse tsc msr pae mce cx8 apic sep mtrr pge mca cmov pat pse36 clflush dts acpi mmx fxsr sse sse2 ss ht tm pbe syscall nx pdpe1gb rdtscp lm constant_tsc art arch_perfmon pebs bts rep_good nopl xtopology nonstop_tsc cpuid aperfmperf tsc_known_freq pni pclmulqdq dtes64 monitor ds_cpl vmx smx est tm2 ssse3 sdbg fma cx16 xtpr pdcm sse4_1 sse4_2 x2apic movbe popcnt tsc_deadline_timer aes xsave avx f16c rdrand lahf_lm abm 3dnowprefetch cpuid_fault epb ssbd ibrs ibpb stibp ibrs_enhanced tpr_shadow vnmi flexpriority ept vpid ept_ad fsgsbase tsc_adjust bmi1 avx2 smep bmi2 erms invpcid rdseed adx smap clflushopt clwb intel_pt sha_ni xsaveopt xsavec xgetbv1 xsaves split_lock_detect avx_vnni dtherm ida arat pln pts hwp hwp_notify hwp_act_window hwp_epp hwp_pkg_req umip pku ospke waitpkg gfni vaes vpclmulqdq tme rdpid movdiri movdir64b fsrm md_clear serialize pconfig arch_lbr flush_l1d arch_capabilities\n",
      "vmx flags\t: vnmi preemption_timer posted_intr invvpid ept_x_only ept_ad ept_1gb flexpriority apicv tsc_offset vtpr mtf vapic ept vpid unrestricted_guest vapic_reg vid ple shadow_vmcs pml ept_mode_based_exec tsc_scaling usr_wait_pause\n",
      "bugs\t\t: spectre_v1 spectre_v2 spec_store_bypass swapgs eibrs_pbrsb\n",
      "bogomips\t: 6604.80\n",
      "clflush size\t: 64\n",
      "cache_alignment\t: 64\n",
      "address sizes\t: 46 bits physical, 48 bits virtual\n",
      "power management:\n",
      "\n",
      "processor\t: 1\n",
      "vendor_id\t: GenuineIntel\n",
      "cpu family\t: 6\n",
      "model\t\t: 151\n",
      "model name\t: 12th Gen Intel(R) Core(TM) i5-12600\n",
      "stepping\t: 5\n",
      "microcode\t: 0x2e\n",
      "cpu MHz\t\t: 3300.000\n",
      "cache size\t: 18432 KB\n",
      "physical id\t: 0\n",
      "siblings\t: 12\n",
      "core id\t\t: 0\n",
      "cpu cores\t: 6\n",
      "apicid\t\t: 1\n",
      "initial apicid\t: 1\n",
      "fpu\t\t: yes\n",
      "fpu_exception\t: yes\n",
      "cpuid level\t: 32\n",
      "wp\t\t: yes\n",
      "flags\t\t: fpu vme de pse tsc msr pae mce cx8 apic sep mtrr pge mca cmov pat pse36 clflush dts acpi mmx fxsr sse sse2 ss ht tm pbe syscall nx pdpe1gb rdtscp lm constant_tsc art arch_perfmon pebs bts rep_good nopl xtopology nonstop_tsc cpuid aperfmperf tsc_known_freq pni pclmulqdq dtes64 monitor ds_cpl vmx smx est tm2 ssse3 sdbg fma cx16 xtpr pdcm sse4_1 sse4_2 x2apic movbe popcnt tsc_deadline_timer aes xsave avx f16c rdrand lahf_lm abm 3dnowprefetch cpuid_fault epb ssbd ibrs ibpb stibp ibrs_enhanced tpr_shadow vnmi flexpriority ept vpid ept_ad fsgsbase tsc_adjust bmi1 avx2 smep bmi2 erms invpcid rdseed adx smap clflushopt clwb intel_pt sha_ni xsaveopt xsavec xgetbv1 xsaves split_lock_detect avx_vnni dtherm ida arat pln pts hwp hwp_notify hwp_act_window hwp_epp hwp_pkg_req umip pku ospke waitpkg gfni vaes vpclmulqdq tme rdpid movdiri movdir64b fsrm md_clear serialize pconfig arch_lbr flush_l1d arch_capabilities\n",
      "vmx flags\t: vnmi preemption_timer posted_intr invvpid ept_x_only ept_ad ept_1gb flexpriority apicv tsc_offset vtpr mtf vapic ept vpid unrestricted_guest vapic_reg vid ple shadow_vmcs pml ept_mode_based_exec tsc_scaling usr_wait_pause\n",
      "bugs\t\t: spectre_v1 spectre_v2 spec_store_bypass swapgs eibrs_pbrsb\n",
      "bogomips\t: 6604.80\n",
      "clflush size\t: 64\n",
      "cache_alignment\t: 64\n",
      "address sizes\t: 46 bits physical, 48 bits virtual\n",
      "power management:\n",
      "\n",
      "processor\t: 2\n",
      "vendor_id\t: GenuineIntel\n",
      "cpu family\t: 6\n",
      "model\t\t: 151\n",
      "model name\t: 12th Gen Intel(R) Core(TM) i5-12600\n",
      "stepping\t: 5\n",
      "microcode\t: 0x2e\n",
      "cpu MHz\t\t: 4400.000\n",
      "cache size\t: 18432 KB\n",
      "physical id\t: 0\n",
      "siblings\t: 12\n",
      "core id\t\t: 1\n",
      "cpu cores\t: 6\n",
      "apicid\t\t: 2\n",
      "initial apicid\t: 2\n",
      "fpu\t\t: yes\n",
      "fpu_exception\t: yes\n",
      "cpuid level\t: 32\n",
      "wp\t\t: yes\n",
      "flags\t\t: fpu vme de pse tsc msr pae mce cx8 apic sep mtrr pge mca cmov pat pse36 clflush dts acpi mmx fxsr sse sse2 ss ht tm pbe syscall nx pdpe1gb rdtscp lm constant_tsc art arch_perfmon pebs bts rep_good nopl xtopology nonstop_tsc cpuid aperfmperf tsc_known_freq pni pclmulqdq dtes64 monitor ds_cpl vmx smx est tm2 ssse3 sdbg fma cx16 xtpr pdcm sse4_1 sse4_2 x2apic movbe popcnt tsc_deadline_timer aes xsave avx f16c rdrand lahf_lm abm 3dnowprefetch cpuid_fault epb ssbd ibrs ibpb stibp ibrs_enhanced tpr_shadow vnmi flexpriority ept vpid ept_ad fsgsbase tsc_adjust bmi1 avx2 smep bmi2 erms invpcid rdseed adx smap clflushopt clwb intel_pt sha_ni xsaveopt xsavec xgetbv1 xsaves split_lock_detect avx_vnni dtherm ida arat pln pts hwp hwp_notify hwp_act_window hwp_epp hwp_pkg_req umip pku ospke waitpkg gfni vaes vpclmulqdq tme rdpid movdiri movdir64b fsrm md_clear serialize pconfig arch_lbr flush_l1d arch_capabilities\n",
      "vmx flags\t: vnmi preemption_timer posted_intr invvpid ept_x_only ept_ad ept_1gb flexpriority apicv tsc_offset vtpr mtf vapic ept vpid unrestricted_guest vapic_reg vid ple shadow_vmcs pml ept_mode_based_exec tsc_scaling usr_wait_pause\n",
      "bugs\t\t: spectre_v1 spectre_v2 spec_store_bypass swapgs eibrs_pbrsb\n",
      "bogomips\t: 6604.80\n",
      "clflush size\t: 64\n",
      "cache_alignment\t: 64\n",
      "address sizes\t: 46 bits physical, 48 bits virtual\n",
      "power management:\n",
      "\n",
      "processor\t: 3\n",
      "vendor_id\t: GenuineIntel\n",
      "cpu family\t: 6\n",
      "model\t\t: 151\n",
      "model name\t: 12th Gen Intel(R) Core(TM) i5-12600\n",
      "stepping\t: 5\n",
      "microcode\t: 0x2e\n",
      "cpu MHz\t\t: 3300.000\n",
      "cache size\t: 18432 KB\n",
      "physical id\t: 0\n",
      "siblings\t: 12\n",
      "core id\t\t: 1\n",
      "cpu cores\t: 6\n",
      "apicid\t\t: 3\n",
      "initial apicid\t: 3\n",
      "fpu\t\t: yes\n",
      "fpu_exception\t: yes\n",
      "cpuid level\t: 32\n",
      "wp\t\t: yes\n",
      "flags\t\t: fpu vme de pse tsc msr pae mce cx8 apic sep mtrr pge mca cmov pat pse36 clflush dts acpi mmx fxsr sse sse2 ss ht tm pbe syscall nx pdpe1gb rdtscp lm constant_tsc art arch_perfmon pebs bts rep_good nopl xtopology nonstop_tsc cpuid aperfmperf tsc_known_freq pni pclmulqdq dtes64 monitor ds_cpl vmx smx est tm2 ssse3 sdbg fma cx16 xtpr pdcm sse4_1 sse4_2 x2apic movbe popcnt tsc_deadline_timer aes xsave avx f16c rdrand lahf_lm abm 3dnowprefetch cpuid_fault epb ssbd ibrs ibpb stibp ibrs_enhanced tpr_shadow vnmi flexpriority ept vpid ept_ad fsgsbase tsc_adjust bmi1 avx2 smep bmi2 erms invpcid rdseed adx smap clflushopt clwb intel_pt sha_ni xsaveopt xsavec xgetbv1 xsaves split_lock_detect avx_vnni dtherm ida arat pln pts hwp hwp_notify hwp_act_window hwp_epp hwp_pkg_req umip pku ospke waitpkg gfni vaes vpclmulqdq tme rdpid movdiri movdir64b fsrm md_clear serialize pconfig arch_lbr flush_l1d arch_capabilities\n",
      "vmx flags\t: vnmi preemption_timer posted_intr invvpid ept_x_only ept_ad ept_1gb flexpriority apicv tsc_offset vtpr mtf vapic ept vpid unrestricted_guest vapic_reg vid ple shadow_vmcs pml ept_mode_based_exec tsc_scaling usr_wait_pause\n",
      "bugs\t\t: spectre_v1 spectre_v2 spec_store_bypass swapgs eibrs_pbrsb\n",
      "bogomips\t: 6604.80\n",
      "clflush size\t: 64\n",
      "cache_alignment\t: 64\n",
      "address sizes\t: 46 bits physical, 48 bits virtual\n",
      "power management:\n",
      "\n",
      "processor\t: 4\n",
      "vendor_id\t: GenuineIntel\n",
      "cpu family\t: 6\n",
      "model\t\t: 151\n",
      "model name\t: 12th Gen Intel(R) Core(TM) i5-12600\n",
      "stepping\t: 5\n",
      "microcode\t: 0x2e\n",
      "cpu MHz\t\t: 4427.531\n",
      "cache size\t: 18432 KB\n",
      "physical id\t: 0\n",
      "siblings\t: 12\n",
      "core id\t\t: 2\n",
      "cpu cores\t: 6\n",
      "apicid\t\t: 4\n",
      "initial apicid\t: 4\n",
      "fpu\t\t: yes\n",
      "fpu_exception\t: yes\n",
      "cpuid level\t: 32\n",
      "wp\t\t: yes\n",
      "flags\t\t: fpu vme de pse tsc msr pae mce cx8 apic sep mtrr pge mca cmov pat pse36 clflush dts acpi mmx fxsr sse sse2 ss ht tm pbe syscall nx pdpe1gb rdtscp lm constant_tsc art arch_perfmon pebs bts rep_good nopl xtopology nonstop_tsc cpuid aperfmperf tsc_known_freq pni pclmulqdq dtes64 monitor ds_cpl vmx smx est tm2 ssse3 sdbg fma cx16 xtpr pdcm sse4_1 sse4_2 x2apic movbe popcnt tsc_deadline_timer aes xsave avx f16c rdrand lahf_lm abm 3dnowprefetch cpuid_fault epb ssbd ibrs ibpb stibp ibrs_enhanced tpr_shadow vnmi flexpriority ept vpid ept_ad fsgsbase tsc_adjust bmi1 avx2 smep bmi2 erms invpcid rdseed adx smap clflushopt clwb intel_pt sha_ni xsaveopt xsavec xgetbv1 xsaves split_lock_detect avx_vnni dtherm ida arat pln pts hwp hwp_notify hwp_act_window hwp_epp hwp_pkg_req umip pku ospke waitpkg gfni vaes vpclmulqdq tme rdpid movdiri movdir64b fsrm md_clear serialize pconfig arch_lbr flush_l1d arch_capabilities\n",
      "vmx flags\t: vnmi preemption_timer posted_intr invvpid ept_x_only ept_ad ept_1gb flexpriority apicv tsc_offset vtpr mtf vapic ept vpid unrestricted_guest vapic_reg vid ple shadow_vmcs pml ept_mode_based_exec tsc_scaling usr_wait_pause\n",
      "bugs\t\t: spectre_v1 spectre_v2 spec_store_bypass swapgs eibrs_pbrsb\n",
      "bogomips\t: 6604.80\n",
      "clflush size\t: 64\n",
      "cache_alignment\t: 64\n",
      "address sizes\t: 46 bits physical, 48 bits virtual\n",
      "power management:\n",
      "\n",
      "processor\t: 5\n",
      "vendor_id\t: GenuineIntel\n",
      "cpu family\t: 6\n",
      "model\t\t: 151\n",
      "model name\t: 12th Gen Intel(R) Core(TM) i5-12600\n",
      "stepping\t: 5\n",
      "microcode\t: 0x2e\n",
      "cpu MHz\t\t: 3300.000\n",
      "cache size\t: 18432 KB\n",
      "physical id\t: 0\n",
      "siblings\t: 12\n",
      "core id\t\t: 2\n",
      "cpu cores\t: 6\n",
      "apicid\t\t: 5\n",
      "initial apicid\t: 5\n",
      "fpu\t\t: yes\n",
      "fpu_exception\t: yes\n",
      "cpuid level\t: 32\n",
      "wp\t\t: yes\n",
      "flags\t\t: fpu vme de pse tsc msr pae mce cx8 apic sep mtrr pge mca cmov pat pse36 clflush dts acpi mmx fxsr sse sse2 ss ht tm pbe syscall nx pdpe1gb rdtscp lm constant_tsc art arch_perfmon pebs bts rep_good nopl xtopology nonstop_tsc cpuid aperfmperf tsc_known_freq pni pclmulqdq dtes64 monitor ds_cpl vmx smx est tm2 ssse3 sdbg fma cx16 xtpr pdcm sse4_1 sse4_2 x2apic movbe popcnt tsc_deadline_timer aes xsave avx f16c rdrand lahf_lm abm 3dnowprefetch cpuid_fault epb ssbd ibrs ibpb stibp ibrs_enhanced tpr_shadow vnmi flexpriority ept vpid ept_ad fsgsbase tsc_adjust bmi1 avx2 smep bmi2 erms invpcid rdseed adx smap clflushopt clwb intel_pt sha_ni xsaveopt xsavec xgetbv1 xsaves split_lock_detect avx_vnni dtherm ida arat pln pts hwp hwp_notify hwp_act_window hwp_epp hwp_pkg_req umip pku ospke waitpkg gfni vaes vpclmulqdq tme rdpid movdiri movdir64b fsrm md_clear serialize pconfig arch_lbr flush_l1d arch_capabilities\n",
      "vmx flags\t: vnmi preemption_timer posted_intr invvpid ept_x_only ept_ad ept_1gb flexpriority apicv tsc_offset vtpr mtf vapic ept vpid unrestricted_guest vapic_reg vid ple shadow_vmcs pml ept_mode_based_exec tsc_scaling usr_wait_pause\n",
      "bugs\t\t: spectre_v1 spectre_v2 spec_store_bypass swapgs eibrs_pbrsb\n",
      "bogomips\t: 6604.80\n",
      "clflush size\t: 64\n",
      "cache_alignment\t: 64\n",
      "address sizes\t: 46 bits physical, 48 bits virtual\n",
      "power management:\n",
      "\n",
      "processor\t: 6\n",
      "vendor_id\t: GenuineIntel\n",
      "cpu family\t: 6\n",
      "model\t\t: 151\n",
      "model name\t: 12th Gen Intel(R) Core(TM) i5-12600\n",
      "stepping\t: 5\n",
      "microcode\t: 0x2e\n",
      "cpu MHz\t\t: 4405.987\n",
      "cache size\t: 18432 KB\n",
      "physical id\t: 0\n",
      "siblings\t: 12\n",
      "core id\t\t: 3\n",
      "cpu cores\t: 6\n",
      "apicid\t\t: 6\n",
      "initial apicid\t: 6\n",
      "fpu\t\t: yes\n",
      "fpu_exception\t: yes\n",
      "cpuid level\t: 32\n",
      "wp\t\t: yes\n",
      "flags\t\t: fpu vme de pse tsc msr pae mce cx8 apic sep mtrr pge mca cmov pat pse36 clflush dts acpi mmx fxsr sse sse2 ss ht tm pbe syscall nx pdpe1gb rdtscp lm constant_tsc art arch_perfmon pebs bts rep_good nopl xtopology nonstop_tsc cpuid aperfmperf tsc_known_freq pni pclmulqdq dtes64 monitor ds_cpl vmx smx est tm2 ssse3 sdbg fma cx16 xtpr pdcm sse4_1 sse4_2 x2apic movbe popcnt tsc_deadline_timer aes xsave avx f16c rdrand lahf_lm abm 3dnowprefetch cpuid_fault epb ssbd ibrs ibpb stibp ibrs_enhanced tpr_shadow vnmi flexpriority ept vpid ept_ad fsgsbase tsc_adjust bmi1 avx2 smep bmi2 erms invpcid rdseed adx smap clflushopt clwb intel_pt sha_ni xsaveopt xsavec xgetbv1 xsaves split_lock_detect avx_vnni dtherm ida arat pln pts hwp hwp_notify hwp_act_window hwp_epp hwp_pkg_req umip pku ospke waitpkg gfni vaes vpclmulqdq tme rdpid movdiri movdir64b fsrm md_clear serialize pconfig arch_lbr flush_l1d arch_capabilities\n",
      "vmx flags\t: vnmi preemption_timer posted_intr invvpid ept_x_only ept_ad ept_1gb flexpriority apicv tsc_offset vtpr mtf vapic ept vpid unrestricted_guest vapic_reg vid ple shadow_vmcs pml ept_mode_based_exec tsc_scaling usr_wait_pause\n",
      "bugs\t\t: spectre_v1 spectre_v2 spec_store_bypass swapgs eibrs_pbrsb\n",
      "bogomips\t: 6604.80\n",
      "clflush size\t: 64\n",
      "cache_alignment\t: 64\n",
      "address sizes\t: 46 bits physical, 48 bits virtual\n",
      "power management:\n",
      "\n",
      "processor\t: 7\n",
      "vendor_id\t: GenuineIntel\n",
      "cpu family\t: 6\n",
      "model\t\t: 151\n",
      "model name\t: 12th Gen Intel(R) Core(TM) i5-12600\n",
      "stepping\t: 5\n",
      "microcode\t: 0x2e\n",
      "cpu MHz\t\t: 3300.000\n",
      "cache size\t: 18432 KB\n",
      "physical id\t: 0\n",
      "siblings\t: 12\n",
      "core id\t\t: 3\n",
      "cpu cores\t: 6\n",
      "apicid\t\t: 7\n",
      "initial apicid\t: 7\n",
      "fpu\t\t: yes\n",
      "fpu_exception\t: yes\n",
      "cpuid level\t: 32\n",
      "wp\t\t: yes\n",
      "flags\t\t: fpu vme de pse tsc msr pae mce cx8 apic sep mtrr pge mca cmov pat pse36 clflush dts acpi mmx fxsr sse sse2 ss ht tm pbe syscall nx pdpe1gb rdtscp lm constant_tsc art arch_perfmon pebs bts rep_good nopl xtopology nonstop_tsc cpuid aperfmperf tsc_known_freq pni pclmulqdq dtes64 monitor ds_cpl vmx smx est tm2 ssse3 sdbg fma cx16 xtpr pdcm sse4_1 sse4_2 x2apic movbe popcnt tsc_deadline_timer aes xsave avx f16c rdrand lahf_lm abm 3dnowprefetch cpuid_fault epb ssbd ibrs ibpb stibp ibrs_enhanced tpr_shadow vnmi flexpriority ept vpid ept_ad fsgsbase tsc_adjust bmi1 avx2 smep bmi2 erms invpcid rdseed adx smap clflushopt clwb intel_pt sha_ni xsaveopt xsavec xgetbv1 xsaves split_lock_detect avx_vnni dtherm ida arat pln pts hwp hwp_notify hwp_act_window hwp_epp hwp_pkg_req umip pku ospke waitpkg gfni vaes vpclmulqdq tme rdpid movdiri movdir64b fsrm md_clear serialize pconfig arch_lbr flush_l1d arch_capabilities\n",
      "vmx flags\t: vnmi preemption_timer posted_intr invvpid ept_x_only ept_ad ept_1gb flexpriority apicv tsc_offset vtpr mtf vapic ept vpid unrestricted_guest vapic_reg vid ple shadow_vmcs pml ept_mode_based_exec tsc_scaling usr_wait_pause\n",
      "bugs\t\t: spectre_v1 spectre_v2 spec_store_bypass swapgs eibrs_pbrsb\n",
      "bogomips\t: 6604.80\n",
      "clflush size\t: 64\n",
      "cache_alignment\t: 64\n",
      "address sizes\t: 46 bits physical, 48 bits virtual\n",
      "power management:\n",
      "\n",
      "processor\t: 8\n",
      "vendor_id\t: GenuineIntel\n",
      "cpu family\t: 6\n",
      "model\t\t: 151\n",
      "model name\t: 12th Gen Intel(R) Core(TM) i5-12600\n",
      "stepping\t: 5\n",
      "microcode\t: 0x2e\n",
      "cpu MHz\t\t: 3300.000\n",
      "cache size\t: 18432 KB\n",
      "physical id\t: 0\n",
      "siblings\t: 12\n",
      "core id\t\t: 4\n",
      "cpu cores\t: 6\n",
      "apicid\t\t: 8\n",
      "initial apicid\t: 8\n",
      "fpu\t\t: yes\n",
      "fpu_exception\t: yes\n",
      "cpuid level\t: 32\n",
      "wp\t\t: yes\n",
      "flags\t\t: fpu vme de pse tsc msr pae mce cx8 apic sep mtrr pge mca cmov pat pse36 clflush dts acpi mmx fxsr sse sse2 ss ht tm pbe syscall nx pdpe1gb rdtscp lm constant_tsc art arch_perfmon pebs bts rep_good nopl xtopology nonstop_tsc cpuid aperfmperf tsc_known_freq pni pclmulqdq dtes64 monitor ds_cpl vmx smx est tm2 ssse3 sdbg fma cx16 xtpr pdcm sse4_1 sse4_2 x2apic movbe popcnt tsc_deadline_timer aes xsave avx f16c rdrand lahf_lm abm 3dnowprefetch cpuid_fault epb ssbd ibrs ibpb stibp ibrs_enhanced tpr_shadow vnmi flexpriority ept vpid ept_ad fsgsbase tsc_adjust bmi1 avx2 smep bmi2 erms invpcid rdseed adx smap clflushopt clwb intel_pt sha_ni xsaveopt xsavec xgetbv1 xsaves split_lock_detect avx_vnni dtherm ida arat pln pts hwp hwp_notify hwp_act_window hwp_epp hwp_pkg_req umip pku ospke waitpkg gfni vaes vpclmulqdq tme rdpid movdiri movdir64b fsrm md_clear serialize pconfig arch_lbr flush_l1d arch_capabilities\n",
      "vmx flags\t: vnmi preemption_timer posted_intr invvpid ept_x_only ept_ad ept_1gb flexpriority apicv tsc_offset vtpr mtf vapic ept vpid unrestricted_guest vapic_reg vid ple shadow_vmcs pml ept_mode_based_exec tsc_scaling usr_wait_pause\n",
      "bugs\t\t: spectre_v1 spectre_v2 spec_store_bypass swapgs eibrs_pbrsb\n",
      "bogomips\t: 6604.80\n",
      "clflush size\t: 64\n",
      "cache_alignment\t: 64\n",
      "address sizes\t: 46 bits physical, 48 bits virtual\n",
      "power management:\n",
      "\n",
      "processor\t: 9\n",
      "vendor_id\t: GenuineIntel\n",
      "cpu family\t: 6\n",
      "model\t\t: 151\n",
      "model name\t: 12th Gen Intel(R) Core(TM) i5-12600\n",
      "stepping\t: 5\n",
      "microcode\t: 0x2e\n",
      "cpu MHz\t\t: 4397.943\n",
      "cache size\t: 18432 KB\n",
      "physical id\t: 0\n",
      "siblings\t: 12\n",
      "core id\t\t: 4\n",
      "cpu cores\t: 6\n",
      "apicid\t\t: 9\n",
      "initial apicid\t: 9\n",
      "fpu\t\t: yes\n",
      "fpu_exception\t: yes\n",
      "cpuid level\t: 32\n",
      "wp\t\t: yes\n",
      "flags\t\t: fpu vme de pse tsc msr pae mce cx8 apic sep mtrr pge mca cmov pat pse36 clflush dts acpi mmx fxsr sse sse2 ss ht tm pbe syscall nx pdpe1gb rdtscp lm constant_tsc art arch_perfmon pebs bts rep_good nopl xtopology nonstop_tsc cpuid aperfmperf tsc_known_freq pni pclmulqdq dtes64 monitor ds_cpl vmx smx est tm2 ssse3 sdbg fma cx16 xtpr pdcm sse4_1 sse4_2 x2apic movbe popcnt tsc_deadline_timer aes xsave avx f16c rdrand lahf_lm abm 3dnowprefetch cpuid_fault epb ssbd ibrs ibpb stibp ibrs_enhanced tpr_shadow vnmi flexpriority ept vpid ept_ad fsgsbase tsc_adjust bmi1 avx2 smep bmi2 erms invpcid rdseed adx smap clflushopt clwb intel_pt sha_ni xsaveopt xsavec xgetbv1 xsaves split_lock_detect avx_vnni dtherm ida arat pln pts hwp hwp_notify hwp_act_window hwp_epp hwp_pkg_req umip pku ospke waitpkg gfni vaes vpclmulqdq tme rdpid movdiri movdir64b fsrm md_clear serialize pconfig arch_lbr flush_l1d arch_capabilities\n",
      "vmx flags\t: vnmi preemption_timer posted_intr invvpid ept_x_only ept_ad ept_1gb flexpriority apicv tsc_offset vtpr mtf vapic ept vpid unrestricted_guest vapic_reg vid ple shadow_vmcs pml ept_mode_based_exec tsc_scaling usr_wait_pause\n",
      "bugs\t\t: spectre_v1 spectre_v2 spec_store_bypass swapgs eibrs_pbrsb\n",
      "bogomips\t: 6604.80\n",
      "clflush size\t: 64\n",
      "cache_alignment\t: 64\n",
      "address sizes\t: 46 bits physical, 48 bits virtual\n",
      "power management:\n",
      "\n",
      "processor\t: 10\n",
      "vendor_id\t: GenuineIntel\n",
      "cpu family\t: 6\n",
      "model\t\t: 151\n",
      "model name\t: 12th Gen Intel(R) Core(TM) i5-12600\n",
      "stepping\t: 5\n",
      "microcode\t: 0x2e\n",
      "cpu MHz\t\t: 4400.143\n",
      "cache size\t: 18432 KB\n",
      "physical id\t: 0\n",
      "siblings\t: 12\n",
      "core id\t\t: 5\n",
      "cpu cores\t: 6\n",
      "apicid\t\t: 10\n",
      "initial apicid\t: 10\n",
      "fpu\t\t: yes\n",
      "fpu_exception\t: yes\n",
      "cpuid level\t: 32\n",
      "wp\t\t: yes\n",
      "flags\t\t: fpu vme de pse tsc msr pae mce cx8 apic sep mtrr pge mca cmov pat pse36 clflush dts acpi mmx fxsr sse sse2 ss ht tm pbe syscall nx pdpe1gb rdtscp lm constant_tsc art arch_perfmon pebs bts rep_good nopl xtopology nonstop_tsc cpuid aperfmperf tsc_known_freq pni pclmulqdq dtes64 monitor ds_cpl vmx smx est tm2 ssse3 sdbg fma cx16 xtpr pdcm sse4_1 sse4_2 x2apic movbe popcnt tsc_deadline_timer aes xsave avx f16c rdrand lahf_lm abm 3dnowprefetch cpuid_fault epb ssbd ibrs ibpb stibp ibrs_enhanced tpr_shadow vnmi flexpriority ept vpid ept_ad fsgsbase tsc_adjust bmi1 avx2 smep bmi2 erms invpcid rdseed adx smap clflushopt clwb intel_pt sha_ni xsaveopt xsavec xgetbv1 xsaves split_lock_detect avx_vnni dtherm ida arat pln pts hwp hwp_notify hwp_act_window hwp_epp hwp_pkg_req umip pku ospke waitpkg gfni vaes vpclmulqdq tme rdpid movdiri movdir64b fsrm md_clear serialize pconfig arch_lbr flush_l1d arch_capabilities\n",
      "vmx flags\t: vnmi preemption_timer posted_intr invvpid ept_x_only ept_ad ept_1gb flexpriority apicv tsc_offset vtpr mtf vapic ept vpid unrestricted_guest vapic_reg vid ple shadow_vmcs pml ept_mode_based_exec tsc_scaling usr_wait_pause\n",
      "bugs\t\t: spectre_v1 spectre_v2 spec_store_bypass swapgs eibrs_pbrsb\n",
      "bogomips\t: 6604.80\n",
      "clflush size\t: 64\n",
      "cache_alignment\t: 64\n",
      "address sizes\t: 46 bits physical, 48 bits virtual\n",
      "power management:\n",
      "\n",
      "processor\t: 11\n",
      "vendor_id\t: GenuineIntel\n",
      "cpu family\t: 6\n",
      "model\t\t: 151\n",
      "model name\t: 12th Gen Intel(R) Core(TM) i5-12600\n",
      "stepping\t: 5\n",
      "microcode\t: 0x2e\n",
      "cpu MHz\t\t: 3300.000\n",
      "cache size\t: 18432 KB\n",
      "physical id\t: 0\n",
      "siblings\t: 12\n",
      "core id\t\t: 5\n",
      "cpu cores\t: 6\n",
      "apicid\t\t: 11\n",
      "initial apicid\t: 11\n",
      "fpu\t\t: yes\n",
      "fpu_exception\t: yes\n",
      "cpuid level\t: 32\n",
      "wp\t\t: yes\n",
      "flags\t\t: fpu vme de pse tsc msr pae mce cx8 apic sep mtrr pge mca cmov pat pse36 clflush dts acpi mmx fxsr sse sse2 ss ht tm pbe syscall nx pdpe1gb rdtscp lm constant_tsc art arch_perfmon pebs bts rep_good nopl xtopology nonstop_tsc cpuid aperfmperf tsc_known_freq pni pclmulqdq dtes64 monitor ds_cpl vmx smx est tm2 ssse3 sdbg fma cx16 xtpr pdcm sse4_1 sse4_2 x2apic movbe popcnt tsc_deadline_timer aes xsave avx f16c rdrand lahf_lm abm 3dnowprefetch cpuid_fault epb ssbd ibrs ibpb stibp ibrs_enhanced tpr_shadow vnmi flexpriority ept vpid ept_ad fsgsbase tsc_adjust bmi1 avx2 smep bmi2 erms invpcid rdseed adx smap clflushopt clwb intel_pt sha_ni xsaveopt xsavec xgetbv1 xsaves split_lock_detect avx_vnni dtherm ida arat pln pts hwp hwp_notify hwp_act_window hwp_epp hwp_pkg_req umip pku ospke waitpkg gfni vaes vpclmulqdq tme rdpid movdiri movdir64b fsrm md_clear serialize pconfig arch_lbr flush_l1d arch_capabilities\n",
      "vmx flags\t: vnmi preemption_timer posted_intr invvpid ept_x_only ept_ad ept_1gb flexpriority apicv tsc_offset vtpr mtf vapic ept vpid unrestricted_guest vapic_reg vid ple shadow_vmcs pml ept_mode_based_exec tsc_scaling usr_wait_pause\n",
      "bugs\t\t: spectre_v1 spectre_v2 spec_store_bypass swapgs eibrs_pbrsb\n",
      "bogomips\t: 6604.80\n",
      "clflush size\t: 64\n",
      "cache_alignment\t: 64\n",
      "address sizes\t: 46 bits physical, 48 bits virtual\n",
      "power management:\n",
      "\n"
     ]
    }
   ],
   "source": [
    "!cat /proc/cpuinfo"
   ]
  },
  {
   "cell_type": "code",
   "execution_count": 3,
   "metadata": {},
   "outputs": [
    {
     "name": "stdout",
     "output_type": "stream",
     "text": [
      "/home/admin-gpu/Downloads/drivers_helper/notebooks\n"
     ]
    }
   ],
   "source": [
    "import os\n",
    "\n",
    "print(os.getcwd())"
   ]
  },
  {
   "cell_type": "code",
   "execution_count": 4,
   "metadata": {},
   "outputs": [],
   "source": [
    "model_path = \"../models/models/yolov8s_640/weights/best.pt\"\n",
    "dataset_yaml_path = \"../data/processed/RSTD_filtered_yolov5/dataset.yaml\""
   ]
  },
  {
   "cell_type": "code",
   "execution_count": 5,
   "metadata": {},
   "outputs": [],
   "source": [
    "from ultralytics import YOLO\n",
    "import os\n",
    "\n",
    "# load a pretrained model (recommended for training)\n",
    "model = YOLO(model_path)"
   ]
  },
  {
   "cell_type": "markdown",
   "metadata": {},
   "source": [
    "## Измерим параметры на ЦПУ"
   ]
  },
  {
   "cell_type": "code",
   "execution_count": 6,
   "metadata": {},
   "outputs": [
    {
     "name": "stdout",
     "output_type": "stream",
     "text": [
      "Ultralytics YOLOv8.0.212 🚀 Python-3.10.11 torch-1.13.0+cu117 CPU (12th Gen Intel Core(TM) i5-12600)\n",
      "Model summary (fused): 168 layers, 11134098 parameters, 0 gradients, 28.5 GFLOPs\n"
     ]
    },
    {
     "name": "stderr",
     "output_type": "stream",
     "text": [
      "\u001b[34m\u001b[1mval: \u001b[0mScanning /home/admin-gpu/Downloads/drivers_helper/data/processed/RSTD_filtered_yolov5/labels/val.cache... 4185 images, 0 backgrounds, 0 corrupt: 100%|██████████| 4185/4185 [00:00<?, ?it/s]\n",
      "                 Class     Images  Instances      Box(P          R      mAP50  mAP50-95): 100%|██████████| 4185/4185 [03:05<00:00, 22.59it/s]\n"
     ]
    },
    {
     "name": "stdout",
     "output_type": "stream",
     "text": [
      "                   all       4185       6821       0.93       0.93       0.97      0.742\n",
      "                5_19_1       4185       2117      0.906      0.933      0.971      0.732\n",
      "                   2_1       4185        934      0.966      0.958      0.988      0.792\n",
      "                  5_16       4185        445      0.934      0.933      0.973      0.717\n",
      "                5_15_2       4185        440      0.941      0.973      0.987      0.759\n",
      "                  3_24       4185        343      0.928      0.913      0.959      0.732\n",
      "                   2_4       4185        340      0.938      0.953       0.98      0.735\n",
      "                  3_27       4185        290       0.93      0.959      0.976      0.756\n",
      "                  1_23       4185        229      0.937      0.913      0.978      0.729\n",
      "                 4_1_1       4185        196       0.92      0.908      0.963      0.735\n",
      "                  5_20       4185        154      0.946      0.916      0.965      0.739\n",
      "                  3_20       4185        142       0.95      0.979      0.987      0.754\n",
      "                5_15_3       4185        144      0.966      0.924      0.978      0.765\n",
      "                5_15_1       4185        131      0.939      0.954      0.972      0.782\n",
      "              5_15_2_2       4185        116      0.919      0.881      0.971      0.804\n",
      "                  1_17       4185        107      0.898      0.888       0.97      0.716\n",
      "                 4_2_3       4185         76      0.934      0.961      0.979      0.753\n",
      "                5_15_5       4185        108      0.962      0.963      0.989      0.762\n",
      "                 4_2_1       4185        120      0.927      0.947       0.97      0.717\n",
      "                 4_1_4       4185        103      0.841      0.883      0.929      0.725\n",
      "                   7_3       4185         93      0.956      0.925      0.975      0.751\n",
      "                   6_4       4185         96      0.914      0.896       0.94      0.689\n",
      "                  6_16       4185         97      0.906      0.895      0.931      0.685\n",
      "Speed: 0.1ms preprocess, 36.2ms inference, 0.0ms loss, 0.3ms postprocess per image\n",
      "Results saved to \u001b[1mruns/detect/val13\u001b[0m\n"
     ]
    }
   ],
   "source": [
    "# Validate the model\n",
    "# При валлидации происходит Fusing слоев модели!\n",
    "# после layer fusion, стало 168 слоев !\n",
    "# уменьшение слоев примерно на 25%\n",
    "metrics = model.val(data=dataset_yaml_path, batch=1, imgsz=640, device=\"cpu\")"
   ]
  },
  {
   "cell_type": "code",
   "execution_count": 13,
   "metadata": {},
   "outputs": [
    {
     "name": "stdout",
     "output_type": "stream",
     "text": [
      "preprocess 0.14 ms\n",
      "inference 3.6e+01 ms\n",
      "loss 0.0044 ms\n",
      "postprocess 0.28 ms\n",
      "mask map50-95 0.742\n",
      "mask map50 0.97\n",
      "mask map75 0.893\n"
     ]
    }
   ],
   "source": [
    "# оценим производительность\n",
    "print(f'preprocess {metrics.speed[\"preprocess\"]:.2} ms')\n",
    "print(f'inference {metrics.speed[\"inference\"]:.2} ms')\n",
    "print(f'loss {metrics.speed[\"loss\"]:.2} ms')\n",
    "print(f'postprocess {metrics.speed[\"postprocess\"]:.2} ms')\n",
    "\n",
    "# оценим метрики для сегментации\n",
    "print(f\"mask map50-95 {metrics.box.map:.3}\")\n",
    "print(f\"mask map50 {metrics.box.map50:.3}\")\n",
    "print(f\"mask map75 {metrics.box.map75:.3}\")"
   ]
  },
  {
   "cell_type": "code",
   "execution_count": 9,
   "metadata": {},
   "outputs": [
    {
     "name": "stdout",
     "output_type": "stream",
     "text": [
      "21.5 Мб\n"
     ]
    }
   ],
   "source": [
    "# оценим размер сериализованной модели\n",
    "model_size = os.path.getsize(model_path) / 1024**2\n",
    "print(f\"{model_size:.3} Мб\")"
   ]
  },
  {
   "cell_type": "markdown",
   "metadata": {},
   "source": [
    "# Экспорт моделей в различные форматы"
   ]
  },
  {
   "cell_type": "markdown",
   "metadata": {},
   "source": [
    "Согласно официальной документации и туториалу `YOLOv8` поддерживает экспорт в множество различных форматов. \n",
    "\n",
    "Export a YOLOv8 model to any supported format below with the `format` argument, i.e. `format=onnx`. See [YOLOv8 Export Docs](https://docs.ultralytics.com/modes/export/) for more information.\n",
    "\n",
    "- 💡 ProTip: Export to [ONNX](https://onnx.ai/) or [OpenVINO](https://docs.openvino.ai/latest/index.html) for up to 3x CPU speedup.  \n",
    "- 💡 ProTip: Export to [TensorRT](https://developer.nvidia.com/tensorrt) for up to 5x GPU speedup.\n",
    "\n",
    "\n",
    "| Format                                                             | `format` Argument | Model                     | Metadata | Arguments                                           |\n",
    "|--------------------------------------------------------------------|-------------------|---------------------------|----------|-----------------------------------------------------|\n",
    "| [PyTorch](https://pytorch.org/)                                    | -                 | `yolov8n.pt`              | ✅        | -                                                   |\n",
    "| [TorchScript](https://pytorch.org/docs/stable/jit.html)            | `torchscript`     | `yolov8n.torchscript`     | ✅        | `imgsz`, `optimize`                                 |\n",
    "| [ONNX](https://onnx.ai/)                                           | `onnx`            | `yolov8n.onnx`            | ✅        | `imgsz`, `half`, `dynamic`, `simplify`, `opset`     |\n",
    "| [OpenVINO](https://docs.openvino.ai/latest/index.html)             | `openvino`        | `yolov8n_openvino_model/` | ✅        | `imgsz`, `half`                                     |\n",
    "| [TensorRT](https://developer.nvidia.com/tensorrt)                  | `engine`          | `yolov8n.engine`          | ✅        | `imgsz`, `half`, `dynamic`, `simplify`, `workspace` |\n",
    "| [CoreML](https://github.com/apple/coremltools)                     | `coreml`          | `yolov8n.mlpackage`       | ✅        | `imgsz`, `half`, `int8`, `nms`                      |\n",
    "| [TF SavedModel](https://www.tensorflow.org/guide/saved_model)      | `saved_model`     | `yolov8n_saved_model/`    | ✅        | `imgsz`, `keras`                                    |\n",
    "| [TF GraphDef](https://www.tensorflow.org/api_docs/python/tf/Graph) | `pb`              | `yolov8n.pb`              | ❌        | `imgsz`                                             |\n",
    "| [TF Lite](https://www.tensorflow.org/lite)                         | `tflite`          | `yolov8n.tflite`          | ✅        | `imgsz`, `half`, `int8`                             |\n",
    "| [TF Edge TPU](https://coral.ai/docs/edgetpu/models-intro/)         | `edgetpu`         | `yolov8n_edgetpu.tflite`  | ✅        | `imgsz`                                             |\n",
    "| [TF.js](https://www.tensorflow.org/js)                             | `tfjs`            | `yolov8n_web_model/`      | ✅        | `imgsz`                                             |\n",
    "| [PaddlePaddle](https://github.com/PaddlePaddle)                    | `paddle`          | `yolov8n_paddle_model/`   | ✅        | `imgsz`                                             |\n",
    "| [ncnn](https://github.com/Tencent/ncnn)                            | `ncnn`            | `yolov8n_ncnn_model/`     | ✅        | `imgsz`, `half`                                     |\n"
   ]
  },
  {
   "cell_type": "markdown",
   "metadata": {},
   "source": [
    "# Экспорт в ONNX"
   ]
  },
  {
   "cell_type": "markdown",
   "metadata": {},
   "source": [
    "## ONNX only"
   ]
  },
  {
   "cell_type": "code",
   "execution_count": 14,
   "metadata": {},
   "outputs": [],
   "source": [
    "# создадим чистую исходную модель\n",
    "\n",
    "from ultralytics import YOLO\n",
    "import os\n",
    "\n",
    "# load a pretrained model (recommended for training)\n",
    "model = YOLO(model_path)"
   ]
  },
  {
   "cell_type": "code",
   "execution_count": 18,
   "metadata": {},
   "outputs": [
    {
     "ename": "ValueError",
     "evalue": "Invalid export format='-'. Valid formats are ('torchscript', 'onnx', 'openvino', 'engine', 'coreml', 'saved_model', 'pb', 'tflite', 'edgetpu', 'tfjs', 'paddle', 'ncnn')",
     "output_type": "error",
     "traceback": [
      "\u001b[0;31m---------------------------------------------------------------------------\u001b[0m",
      "\u001b[0;31mValueError\u001b[0m                                Traceback (most recent call last)",
      "Cell \u001b[0;32mIn[18], line 1\u001b[0m\n\u001b[0;32m----> 1\u001b[0m \u001b[43mmodel\u001b[49m\u001b[38;5;241;43m.\u001b[39;49m\u001b[43mexport\u001b[49m\u001b[43m(\u001b[49m\u001b[38;5;28;43mformat\u001b[39;49m\u001b[38;5;241;43m=\u001b[39;49m\u001b[38;5;124;43m\"\u001b[39;49m\u001b[38;5;124;43m-\u001b[39;49m\u001b[38;5;124;43m\"\u001b[39;49m\u001b[43m)\u001b[49m\n",
      "File \u001b[0;32m~/.cache/pypoetry/virtualenvs/drivers-helper-gjpq0GaV-py3.10/lib/python3.10/site-packages/ultralytics/engine/model.py:310\u001b[0m, in \u001b[0;36mModel.export\u001b[0;34m(self, **kwargs)\u001b[0m\n\u001b[1;32m    308\u001b[0m custom \u001b[38;5;241m=\u001b[39m {\u001b[38;5;124m'\u001b[39m\u001b[38;5;124mimgsz\u001b[39m\u001b[38;5;124m'\u001b[39m: \u001b[38;5;28mself\u001b[39m\u001b[38;5;241m.\u001b[39mmodel\u001b[38;5;241m.\u001b[39margs[\u001b[38;5;124m'\u001b[39m\u001b[38;5;124mimgsz\u001b[39m\u001b[38;5;124m'\u001b[39m], \u001b[38;5;124m'\u001b[39m\u001b[38;5;124mbatch\u001b[39m\u001b[38;5;124m'\u001b[39m: \u001b[38;5;241m1\u001b[39m, \u001b[38;5;124m'\u001b[39m\u001b[38;5;124mdata\u001b[39m\u001b[38;5;124m'\u001b[39m: \u001b[38;5;28;01mNone\u001b[39;00m, \u001b[38;5;124m'\u001b[39m\u001b[38;5;124mverbose\u001b[39m\u001b[38;5;124m'\u001b[39m: \u001b[38;5;28;01mFalse\u001b[39;00m}  \u001b[38;5;66;03m# method defaults\u001b[39;00m\n\u001b[1;32m    309\u001b[0m args \u001b[38;5;241m=\u001b[39m {\u001b[38;5;241m*\u001b[39m\u001b[38;5;241m*\u001b[39m\u001b[38;5;28mself\u001b[39m\u001b[38;5;241m.\u001b[39moverrides, \u001b[38;5;241m*\u001b[39m\u001b[38;5;241m*\u001b[39mcustom, \u001b[38;5;241m*\u001b[39m\u001b[38;5;241m*\u001b[39mkwargs, \u001b[38;5;124m'\u001b[39m\u001b[38;5;124mmode\u001b[39m\u001b[38;5;124m'\u001b[39m: \u001b[38;5;124m'\u001b[39m\u001b[38;5;124mexport\u001b[39m\u001b[38;5;124m'\u001b[39m}  \u001b[38;5;66;03m# highest priority args on the right\u001b[39;00m\n\u001b[0;32m--> 310\u001b[0m \u001b[38;5;28;01mreturn\u001b[39;00m \u001b[43mExporter\u001b[49m\u001b[43m(\u001b[49m\u001b[43moverrides\u001b[49m\u001b[38;5;241;43m=\u001b[39;49m\u001b[43margs\u001b[49m\u001b[43m,\u001b[49m\u001b[43m \u001b[49m\u001b[43m_callbacks\u001b[49m\u001b[38;5;241;43m=\u001b[39;49m\u001b[38;5;28;43mself\u001b[39;49m\u001b[38;5;241;43m.\u001b[39;49m\u001b[43mcallbacks\u001b[49m\u001b[43m)\u001b[49m\u001b[43m(\u001b[49m\u001b[43mmodel\u001b[49m\u001b[38;5;241;43m=\u001b[39;49m\u001b[38;5;28;43mself\u001b[39;49m\u001b[38;5;241;43m.\u001b[39;49m\u001b[43mmodel\u001b[49m\u001b[43m)\u001b[49m\n",
      "File \u001b[0;32m~/.cache/pypoetry/virtualenvs/drivers-helper-gjpq0GaV-py3.10/lib/python3.10/site-packages/ultralytics/engine/exporter.py:165\u001b[0m, in \u001b[0;36mExporter.__call__\u001b[0;34m(self, model)\u001b[0m\n\u001b[1;32m    163\u001b[0m flags \u001b[38;5;241m=\u001b[39m [x \u001b[38;5;241m==\u001b[39m fmt \u001b[38;5;28;01mfor\u001b[39;00m x \u001b[38;5;129;01min\u001b[39;00m fmts]\n\u001b[1;32m    164\u001b[0m \u001b[38;5;28;01mif\u001b[39;00m \u001b[38;5;28msum\u001b[39m(flags) \u001b[38;5;241m!=\u001b[39m \u001b[38;5;241m1\u001b[39m:\n\u001b[0;32m--> 165\u001b[0m     \u001b[38;5;28;01mraise\u001b[39;00m \u001b[38;5;167;01mValueError\u001b[39;00m(\u001b[38;5;124mf\u001b[39m\u001b[38;5;124m\"\u001b[39m\u001b[38;5;124mInvalid export format=\u001b[39m\u001b[38;5;124m'\u001b[39m\u001b[38;5;132;01m{\u001b[39;00mfmt\u001b[38;5;132;01m}\u001b[39;00m\u001b[38;5;124m'\u001b[39m\u001b[38;5;124m. Valid formats are \u001b[39m\u001b[38;5;132;01m{\u001b[39;00mfmts\u001b[38;5;132;01m}\u001b[39;00m\u001b[38;5;124m\"\u001b[39m)\n\u001b[1;32m    166\u001b[0m jit, onnx, xml, engine, coreml, saved_model, pb, tflite, edgetpu, tfjs, paddle, ncnn \u001b[38;5;241m=\u001b[39m flags  \u001b[38;5;66;03m# export booleans\u001b[39;00m\n\u001b[1;32m    168\u001b[0m \u001b[38;5;66;03m# Device\u001b[39;00m\n",
      "\u001b[0;31mValueError\u001b[0m: Invalid export format='-'. Valid formats are ('torchscript', 'onnx', 'openvino', 'engine', 'coreml', 'saved_model', 'pb', 'tflite', 'edgetpu', 'tfjs', 'paddle', 'ncnn')"
     ]
    }
   ],
   "source": [
    "model.export(format=\"onnx\")"
   ]
  },
  {
   "cell_type": "code",
   "execution_count": 13,
   "metadata": {},
   "outputs": [
    {
     "name": "stdout",
     "output_type": "stream",
     "text": [
      "WARNING ⚠️ Unable to automatically guess model task, assuming 'task=detect'. Explicitly define task for your model, i.e. 'task=detect', 'segment', 'classify', or 'pose'.\n"
     ]
    }
   ],
   "source": [
    "# Load a model\n",
    "model_onnx_path = \"../models/train/weights/best.onnx\"\n",
    "model = YOLO(model_onnx_path)"
   ]
  },
  {
   "cell_type": "markdown",
   "metadata": {},
   "source": [
    "## Измерим параметры на ЦПУ"
   ]
  },
  {
   "cell_type": "code",
   "execution_count": 14,
   "metadata": {},
   "outputs": [
    {
     "name": "stdout",
     "output_type": "stream",
     "text": [
      "Ultralytics YOLOv8.0.212 🚀 Python-3.10.11 torch-1.13.0+cu117 CPU (12th Gen Intel Core(TM) i5-12600)\n",
      "Loading ../models/train/weights/best.onnx for ONNX Runtime inference...\n",
      "Forcing batch=1 square inference (1,3,640,640) for non-PyTorch models\n"
     ]
    },
    {
     "name": "stderr",
     "output_type": "stream",
     "text": [
      "\u001b[34m\u001b[1mval: \u001b[0mScanning /home/admin-gpu/Downloads/drivers_helper/data/processed/RSTD_filtered_yolov5/labels/val.cache... 4185 images, 0 backgrounds, 0 corrupt: 100%|██████████| 4185/4185 [00:00<?, ?it/s]\n",
      "                 Class     Images  Instances      Box(P          R      mAP50  mAP50-95): 100%|██████████| 4185/4185 [05:02<00:00, 13.85it/s]\n"
     ]
    },
    {
     "name": "stdout",
     "output_type": "stream",
     "text": [
      "                   all       4185       6821      0.935      0.924      0.967      0.738\n",
      "                5_19_1       4185       2117        0.9      0.932      0.965      0.727\n",
      "                   2_1       4185        934      0.966      0.961      0.988      0.789\n",
      "                  5_16       4185        445       0.93      0.931      0.971      0.713\n",
      "                5_15_2       4185        440      0.944      0.977      0.987      0.756\n",
      "                  3_24       4185        343      0.931      0.913      0.953      0.726\n",
      "                   2_4       4185        340      0.939      0.953      0.982      0.736\n",
      "                  3_27       4185        290      0.942      0.954      0.977      0.758\n",
      "                  1_23       4185        229      0.953      0.913      0.979       0.73\n",
      "                 4_1_1       4185        196       0.93      0.908      0.963      0.738\n",
      "                  5_20       4185        154       0.95       0.89      0.967      0.737\n",
      "                  3_20       4185        142      0.952      0.974      0.986      0.751\n",
      "                5_15_3       4185        144      0.971      0.917      0.976       0.76\n",
      "                5_15_1       4185        131      0.932      0.945      0.967      0.771\n",
      "              5_15_2_2       4185        116      0.936      0.884      0.971        0.8\n",
      "                  1_17       4185        107      0.908      0.879       0.97      0.709\n",
      "                 4_2_3       4185         76      0.946      0.961      0.977      0.746\n",
      "                5_15_5       4185        108      0.971      0.935       0.99      0.753\n",
      "                 4_2_1       4185        120      0.926      0.941      0.959      0.708\n",
      "                 4_1_4       4185        103      0.848      0.864      0.931      0.725\n",
      "                   7_3       4185         93      0.945      0.926      0.974      0.743\n",
      "                   6_4       4185         96      0.913      0.876      0.935      0.686\n",
      "                  6_16       4185         97      0.925      0.889      0.915      0.666\n",
      "Speed: 0.4ms preprocess, 62.0ms inference, 0.0ms loss, 0.8ms postprocess per image\n",
      "Results saved to \u001b[1mruns/detect/val5\u001b[0m\n"
     ]
    }
   ],
   "source": [
    "metrics = model.val(data=dataset_yaml_path, batch=1, imgsz=640, device=\"cpu\")"
   ]
  },
  {
   "cell_type": "code",
   "execution_count": 17,
   "metadata": {},
   "outputs": [
    {
     "name": "stdout",
     "output_type": "stream",
     "text": [
      "mask map50-95 0.738\n",
      "mask map50 0.967\n",
      "mask map75 0.888\n"
     ]
    }
   ],
   "source": [
    "# оценим метрики для сегментации\n",
    "print(f\"mask map50-95 {metrics.box.map:.3}\")\n",
    "print(f\"mask map50 {metrics.box.map50:.3}\")\n",
    "print(f\"mask map75 {metrics.box.map75:.3}\")"
   ]
  },
  {
   "cell_type": "code",
   "execution_count": 18,
   "metadata": {},
   "outputs": [
    {
     "name": "stdout",
     "output_type": "stream",
     "text": [
      "42.7 Мб\n"
     ]
    }
   ],
   "source": [
    "# оценим размер сериализованной модели\n",
    "model_size = os.path.getsize(model_onnx_path) / 1024**2\n",
    "print(f\"{model_size:.3} Мб\")"
   ]
  },
  {
   "cell_type": "code",
   "execution_count": 19,
   "metadata": {},
   "outputs": [],
   "source": [
    "# остальные методы сохраняют модель под таким же названием\n",
    "os.remove(model_onnx_path)"
   ]
  },
  {
   "cell_type": "markdown",
   "metadata": {},
   "source": [
    "## ONNX simplify"
   ]
  },
  {
   "cell_type": "code",
   "execution_count": 5,
   "metadata": {},
   "outputs": [],
   "source": [
    "# создадим чистую исходную модель\n",
    "\n",
    "from ultralytics import YOLO\n",
    "import os\n",
    "\n",
    "# load a pretrained model (recommended for training)\n",
    "model = YOLO(model_path)"
   ]
  },
  {
   "cell_type": "code",
   "execution_count": 6,
   "metadata": {},
   "outputs": [
    {
     "name": "stdout",
     "output_type": "stream",
     "text": [
      "Ultralytics YOLOv8.0.212 🚀 Python-3.10.11 torch-1.13.0+cu117 CPU (12th Gen Intel Core(TM) i5-12600)\n",
      "Model summary (fused): 168 layers, 11134098 parameters, 0 gradients, 28.5 GFLOPs\n",
      "\n",
      "\u001b[34m\u001b[1mPyTorch:\u001b[0m starting from '../models/train/weights/best.pt' with input shape (1, 3, 640, 640) BCHW and output shape(s) (1, 26, 8400) (21.5 MB)\n",
      "\n",
      "\u001b[34m\u001b[1mONNX:\u001b[0m starting export with onnx 1.15.0 opset 16...\n",
      "\u001b[34m\u001b[1mONNX:\u001b[0m simplifying with onnxsim 0.4.35...\n",
      "\u001b[34m\u001b[1mONNX:\u001b[0m export success ✅ 0.9s, saved as '../models/train/weights/best.onnx' (42.6 MB)\n",
      "\n",
      "Export complete (2.5s)\n",
      "Results saved to \u001b[1m/home/admin-gpu/Downloads/drivers_helper/models/train/weights\u001b[0m\n",
      "Predict:         yolo predict task=detect model=../models/train/weights/best.onnx imgsz=640  \n",
      "Validate:        yolo val task=detect model=../models/train/weights/best.onnx imgsz=640 data=data/RSTD_filtered_yolov5/dataset.yaml  \n",
      "Visualize:       https://netron.app\n"
     ]
    },
    {
     "data": {
      "text/plain": [
       "'../models/train/weights/best.onnx'"
      ]
     },
     "execution_count": 6,
     "metadata": {},
     "output_type": "execute_result"
    }
   ],
   "source": [
    "model.export(format=\"onnx\", simplify=True)"
   ]
  },
  {
   "cell_type": "code",
   "execution_count": 7,
   "metadata": {},
   "outputs": [
    {
     "name": "stdout",
     "output_type": "stream",
     "text": [
      "WARNING ⚠️ Unable to automatically guess model task, assuming 'task=detect'. Explicitly define task for your model, i.e. 'task=detect', 'segment', 'classify', or 'pose'.\n"
     ]
    }
   ],
   "source": [
    "# Load a model\n",
    "model_onnx_path = \"../models/train/weights/best.onnx\"\n",
    "model = YOLO(model_onnx_path)"
   ]
  },
  {
   "cell_type": "markdown",
   "metadata": {},
   "source": [
    "### Измерим параметры на ЦПУ"
   ]
  },
  {
   "cell_type": "code",
   "execution_count": 8,
   "metadata": {},
   "outputs": [
    {
     "name": "stdout",
     "output_type": "stream",
     "text": [
      "Ultralytics YOLOv8.0.212 🚀 Python-3.10.11 torch-1.13.0+cu117 CPU (12th Gen Intel Core(TM) i5-12600)\n",
      "Loading ../models/train/weights/best.onnx for ONNX Runtime inference...\n",
      "Forcing batch=1 square inference (1,3,640,640) for non-PyTorch models\n"
     ]
    },
    {
     "name": "stderr",
     "output_type": "stream",
     "text": [
      "\u001b[34m\u001b[1mval: \u001b[0mScanning /home/admin-gpu/Downloads/drivers_helper/data/processed/RSTD_filtered_yolov5/labels/val.cache... 4185 images, 0 backgrounds, 0 corrupt: 100%|██████████| 4185/4185 [00:00<?, ?it/s]\n",
      "                 Class     Images  Instances      Box(P          R      mAP50  mAP50-95): 100%|██████████| 4185/4185 [05:18<00:00, 13.15it/s]\n"
     ]
    },
    {
     "name": "stdout",
     "output_type": "stream",
     "text": [
      "                   all       4185       6821      0.935      0.924      0.967      0.738\n",
      "                5_19_1       4185       2117        0.9      0.932      0.965      0.727\n",
      "                   2_1       4185        934      0.966      0.961      0.988      0.789\n",
      "                  5_16       4185        445       0.93      0.931      0.971      0.713\n",
      "                5_15_2       4185        440      0.944      0.977      0.987      0.756\n",
      "                  3_24       4185        343      0.931      0.913      0.953      0.726\n",
      "                   2_4       4185        340      0.939      0.953      0.982      0.736\n",
      "                  3_27       4185        290      0.942      0.954      0.977      0.758\n",
      "                  1_23       4185        229      0.953      0.913      0.979       0.73\n",
      "                 4_1_1       4185        196       0.93      0.908      0.963      0.738\n",
      "                  5_20       4185        154       0.95       0.89      0.967      0.737\n",
      "                  3_20       4185        142      0.952      0.974      0.986      0.751\n",
      "                5_15_3       4185        144      0.971      0.917      0.976       0.76\n",
      "                5_15_1       4185        131      0.932      0.945      0.967      0.771\n",
      "              5_15_2_2       4185        116      0.936      0.884      0.971        0.8\n",
      "                  1_17       4185        107      0.908      0.879       0.97      0.709\n",
      "                 4_2_3       4185         76      0.946      0.961      0.977      0.746\n",
      "                5_15_5       4185        108      0.971      0.935       0.99      0.753\n",
      "                 4_2_1       4185        120      0.926      0.941      0.959      0.708\n",
      "                 4_1_4       4185        103      0.848      0.864      0.931      0.725\n",
      "                   7_3       4185         93      0.945      0.926      0.974      0.743\n",
      "                   6_4       4185         96      0.913      0.876      0.935      0.686\n",
      "                  6_16       4185         97      0.925      0.889      0.915      0.666\n",
      "Speed: 0.3ms preprocess, 66.0ms inference, 0.0ms loss, 0.8ms postprocess per image\n",
      "Results saved to \u001b[1mruns/detect/val6\u001b[0m\n"
     ]
    }
   ],
   "source": [
    "metrics = model.val(data=dataset_yaml_path, batch=1, imgsz=640, device=\"cpu\")"
   ]
  },
  {
   "cell_type": "code",
   "execution_count": 9,
   "metadata": {},
   "outputs": [
    {
     "name": "stdout",
     "output_type": "stream",
     "text": [
      "mask map50-95 0.738\n",
      "mask map50 0.967\n",
      "mask map75 0.888\n"
     ]
    }
   ],
   "source": [
    "# оценим метрики для сегментации\n",
    "print(f\"mask map50-95 {metrics.box.map:.3}\")\n",
    "print(f\"mask map50 {metrics.box.map50:.3}\")\n",
    "print(f\"mask map75 {metrics.box.map75:.3}\")"
   ]
  },
  {
   "cell_type": "code",
   "execution_count": 10,
   "metadata": {},
   "outputs": [
    {
     "name": "stdout",
     "output_type": "stream",
     "text": [
      "42.6 Мб\n"
     ]
    }
   ],
   "source": [
    "# оценим размер сериализованной модели\n",
    "model_size = os.path.getsize(model_onnx_path) / 1024**2\n",
    "print(f\"{model_size:.3} Мб\")"
   ]
  },
  {
   "cell_type": "code",
   "execution_count": 11,
   "metadata": {},
   "outputs": [],
   "source": [
    "# остальные методы сохраняют модель под таким же названием\n",
    "os.remove(model_onnx_path)"
   ]
  },
  {
   "cell_type": "markdown",
   "metadata": {},
   "source": [
    "## ONNX simplify half"
   ]
  },
  {
   "cell_type": "code",
   "execution_count": 12,
   "metadata": {},
   "outputs": [],
   "source": [
    "# создадим чистую исходную модель\n",
    "\n",
    "from ultralytics import YOLO\n",
    "import os\n",
    "\n",
    "# load a pretrained model (recommended for training)\n",
    "model = YOLO(model_path)"
   ]
  },
  {
   "cell_type": "code",
   "execution_count": 13,
   "metadata": {},
   "outputs": [
    {
     "name": "stdout",
     "output_type": "stream",
     "text": [
      "Ultralytics YOLOv8.0.212 🚀 Python-3.10.11 torch-1.13.0+cu117 CPU (12th Gen Intel Core(TM) i5-12600)\n",
      "WARNING ⚠️ half=True only compatible with GPU export, i.e. use device=0\n",
      "Model summary (fused): 168 layers, 11134098 parameters, 0 gradients, 28.5 GFLOPs\n",
      "\n",
      "\u001b[34m\u001b[1mPyTorch:\u001b[0m starting from '../models/train/weights/best.pt' with input shape (1, 3, 640, 640) BCHW and output shape(s) (1, 26, 8400) (21.5 MB)\n",
      "\n",
      "\u001b[34m\u001b[1mONNX:\u001b[0m starting export with onnx 1.15.0 opset 16...\n",
      "\u001b[34m\u001b[1mONNX:\u001b[0m simplifying with onnxsim 0.4.35...\n",
      "\u001b[34m\u001b[1mONNX:\u001b[0m export success ✅ 0.9s, saved as '../models/train/weights/best.onnx' (42.6 MB)\n",
      "\n",
      "Export complete (2.2s)\n",
      "Results saved to \u001b[1m/home/admin-gpu/Downloads/drivers_helper/models/train/weights\u001b[0m\n",
      "Predict:         yolo predict task=detect model=../models/train/weights/best.onnx imgsz=640  \n",
      "Validate:        yolo val task=detect model=../models/train/weights/best.onnx imgsz=640 data=data/RSTD_filtered_yolov5/dataset.yaml  \n",
      "Visualize:       https://netron.app\n"
     ]
    },
    {
     "data": {
      "text/plain": [
       "'../models/train/weights/best.onnx'"
      ]
     },
     "execution_count": 13,
     "metadata": {},
     "output_type": "execute_result"
    }
   ],
   "source": [
    "model.export(format=\"onnx\", simplify=True, half=True)"
   ]
  },
  {
   "cell_type": "code",
   "execution_count": 14,
   "metadata": {},
   "outputs": [
    {
     "name": "stdout",
     "output_type": "stream",
     "text": [
      "WARNING ⚠️ Unable to automatically guess model task, assuming 'task=detect'. Explicitly define task for your model, i.e. 'task=detect', 'segment', 'classify', or 'pose'.\n"
     ]
    }
   ],
   "source": [
    "# Load a model\n",
    "model_onnx_path = \"../models/train/weights/best.onnx\"\n",
    "model = YOLO(model_onnx_path)"
   ]
  },
  {
   "cell_type": "markdown",
   "metadata": {},
   "source": [
    "### Измерим параметры на ЦПУ"
   ]
  },
  {
   "cell_type": "code",
   "execution_count": 15,
   "metadata": {},
   "outputs": [
    {
     "name": "stdout",
     "output_type": "stream",
     "text": [
      "Ultralytics YOLOv8.0.212 🚀 Python-3.10.11 torch-1.13.0+cu117 CPU (12th Gen Intel Core(TM) i5-12600)\n",
      "Loading ../models/train/weights/best.onnx for ONNX Runtime inference...\n",
      "Forcing batch=1 square inference (1,3,640,640) for non-PyTorch models\n"
     ]
    },
    {
     "name": "stderr",
     "output_type": "stream",
     "text": [
      "\u001b[34m\u001b[1mval: \u001b[0mScanning /home/admin-gpu/Downloads/drivers_helper/data/processed/RSTD_filtered_yolov5/labels/val.cache... 4185 images, 0 backgrounds, 0 corrupt: 100%|██████████| 4185/4185 [00:00<?, ?it/s]\n",
      "                 Class     Images  Instances      Box(P          R      mAP50  mAP50-95): 100%|██████████| 4185/4185 [05:03<00:00, 13.77it/s]\n"
     ]
    },
    {
     "name": "stdout",
     "output_type": "stream",
     "text": [
      "                   all       4185       6821      0.935      0.924      0.967      0.738\n",
      "                5_19_1       4185       2117        0.9      0.932      0.965      0.727\n",
      "                   2_1       4185        934      0.966      0.961      0.988      0.789\n",
      "                  5_16       4185        445       0.93      0.931      0.971      0.713\n",
      "                5_15_2       4185        440      0.944      0.977      0.987      0.756\n",
      "                  3_24       4185        343      0.931      0.913      0.953      0.726\n",
      "                   2_4       4185        340      0.939      0.953      0.982      0.736\n",
      "                  3_27       4185        290      0.942      0.954      0.977      0.758\n",
      "                  1_23       4185        229      0.953      0.913      0.979       0.73\n",
      "                 4_1_1       4185        196       0.93      0.908      0.963      0.738\n",
      "                  5_20       4185        154       0.95       0.89      0.967      0.737\n",
      "                  3_20       4185        142      0.952      0.974      0.986      0.751\n",
      "                5_15_3       4185        144      0.971      0.917      0.976       0.76\n",
      "                5_15_1       4185        131      0.932      0.945      0.967      0.771\n",
      "              5_15_2_2       4185        116      0.936      0.884      0.971        0.8\n",
      "                  1_17       4185        107      0.908      0.879       0.97      0.709\n",
      "                 4_2_3       4185         76      0.946      0.961      0.977      0.746\n",
      "                5_15_5       4185        108      0.971      0.935       0.99      0.753\n",
      "                 4_2_1       4185        120      0.926      0.941      0.959      0.708\n",
      "                 4_1_4       4185        103      0.848      0.864      0.931      0.725\n",
      "                   7_3       4185         93      0.945      0.926      0.974      0.743\n",
      "                   6_4       4185         96      0.913      0.876      0.935      0.686\n",
      "                  6_16       4185         97      0.925      0.889      0.915      0.666\n",
      "Speed: 0.4ms preprocess, 62.2ms inference, 0.0ms loss, 0.9ms postprocess per image\n",
      "Results saved to \u001b[1mruns/detect/val7\u001b[0m\n"
     ]
    }
   ],
   "source": [
    "metrics = model.val(data=dataset_yaml_path, batch=1, imgsz=640, device=\"cpu\")"
   ]
  },
  {
   "cell_type": "code",
   "execution_count": 16,
   "metadata": {},
   "outputs": [
    {
     "name": "stdout",
     "output_type": "stream",
     "text": [
      "mask map50-95 0.738\n",
      "mask map50 0.967\n",
      "mask map75 0.888\n"
     ]
    }
   ],
   "source": [
    "# оценим метрики для сегментации\n",
    "print(f\"mask map50-95 {metrics.box.map:.3}\")\n",
    "print(f\"mask map50 {metrics.box.map50:.3}\")\n",
    "print(f\"mask map75 {metrics.box.map75:.3}\")"
   ]
  },
  {
   "cell_type": "code",
   "execution_count": 17,
   "metadata": {},
   "outputs": [
    {
     "name": "stdout",
     "output_type": "stream",
     "text": [
      "42.6 Мб\n"
     ]
    }
   ],
   "source": [
    "# оценим размер сериализованной модели\n",
    "model_size = os.path.getsize(model_onnx_path) / 1024**2\n",
    "print(f\"{model_size:.3} Мб\")"
   ]
  },
  {
   "cell_type": "code",
   "execution_count": 18,
   "metadata": {},
   "outputs": [],
   "source": [
    "# остальные методы сохраняют модель под таким же названием\n",
    "os.remove(model_onnx_path)"
   ]
  },
  {
   "cell_type": "markdown",
   "metadata": {},
   "source": [
    "# Экспорт в OpenVino"
   ]
  },
  {
   "cell_type": "markdown",
   "metadata": {},
   "source": [
    "## OpenVino"
   ]
  },
  {
   "cell_type": "code",
   "execution_count": 5,
   "metadata": {},
   "outputs": [],
   "source": [
    "# создадим чистую исходную модель\n",
    "\n",
    "from ultralytics import YOLO\n",
    "import os\n",
    "\n",
    "# load a pretrained model (recommended for training)\n",
    "model = YOLO(model_path)"
   ]
  },
  {
   "cell_type": "code",
   "execution_count": 6,
   "metadata": {},
   "outputs": [
    {
     "name": "stdout",
     "output_type": "stream",
     "text": [
      "Ultralytics YOLOv8.0.212 🚀 Python-3.10.11 torch-1.13.0+cu117 CPU (12th Gen Intel Core(TM) i5-12600)\n",
      "Model summary (fused): 168 layers, 11134098 parameters, 0 gradients, 28.5 GFLOPs\n",
      "\n",
      "\u001b[34m\u001b[1mPyTorch:\u001b[0m starting from '../models/train/weights/best.pt' with input shape (1, 3, 640, 640) BCHW and output shape(s) (1, 26, 8400) (21.5 MB)\n",
      "\n",
      "\u001b[34m\u001b[1mONNX:\u001b[0m starting export with onnx 1.15.0 opset 16...\n",
      "\u001b[34m\u001b[1mONNX:\u001b[0m export success ✅ 0.5s, saved as '../models/train/weights/best.onnx' (42.7 MB)\n",
      "\n",
      "\u001b[34m\u001b[1mOpenVINO:\u001b[0m starting export with openvino 2023.2.0-13089-cfd42bd2cb0-HEAD...\n",
      "\u001b[34m\u001b[1mOpenVINO:\u001b[0m export success ✅ 0.7s, saved as '../models/train/weights/best_openvino_model/' (42.8 MB)\n",
      "\n",
      "Export complete (2.6s)\n",
      "Results saved to \u001b[1m/home/admin-gpu/Downloads/drivers_helper/models/train/weights\u001b[0m\n",
      "Predict:         yolo predict task=detect model=../models/train/weights/best_openvino_model imgsz=640  \n",
      "Validate:        yolo val task=detect model=../models/train/weights/best_openvino_model imgsz=640 data=data/RSTD_filtered_yolov5/dataset.yaml  \n",
      "Visualize:       https://netron.app\n"
     ]
    },
    {
     "data": {
      "text/plain": [
       "'../models/train/weights/best_openvino_model'"
      ]
     },
     "execution_count": 6,
     "metadata": {},
     "output_type": "execute_result"
    }
   ],
   "source": [
    "model.export(format=\"openvino\")"
   ]
  },
  {
   "cell_type": "code",
   "execution_count": 7,
   "metadata": {},
   "outputs": [
    {
     "name": "stdout",
     "output_type": "stream",
     "text": [
      "WARNING ⚠️ Unable to automatically guess model task, assuming 'task=detect'. Explicitly define task for your model, i.e. 'task=detect', 'segment', 'classify', or 'pose'.\n"
     ]
    }
   ],
   "source": [
    "# Load a model\n",
    "model_openvino_path = '../models/train/weights/best_openvino_model'\n",
    "model = YOLO(model_openvino_path)"
   ]
  },
  {
   "cell_type": "markdown",
   "metadata": {},
   "source": [
    "### Измерим параметры на ЦПУ"
   ]
  },
  {
   "cell_type": "code",
   "execution_count": 8,
   "metadata": {},
   "outputs": [
    {
     "name": "stdout",
     "output_type": "stream",
     "text": [
      "Ultralytics YOLOv8.0.212 🚀 Python-3.10.11 torch-1.13.0+cu117 CPU (12th Gen Intel Core(TM) i5-12600)\n",
      "Loading ../models/train/weights/best_openvino_model for OpenVINO inference...\n",
      "Forcing batch=1 square inference (1,3,640,640) for non-PyTorch models\n"
     ]
    },
    {
     "name": "stderr",
     "output_type": "stream",
     "text": [
      "\u001b[34m\u001b[1mval: \u001b[0mScanning /home/admin-gpu/Downloads/drivers_helper/data/processed/RSTD_filtered_yolov5/labels/val.cache... 4185 images, 0 backgrounds, 0 corrupt: 100%|██████████| 4185/4185 [00:00<?, ?it/s]\n",
      "                 Class     Images  Instances      Box(P          R      mAP50  mAP50-95): 100%|██████████| 4185/4185 [03:44<00:00, 18.62it/s]\n"
     ]
    },
    {
     "name": "stdout",
     "output_type": "stream",
     "text": [
      "                   all       4185       6821      0.935      0.924      0.967      0.738\n",
      "                5_19_1       4185       2117        0.9      0.932      0.965      0.727\n",
      "                   2_1       4185        934      0.966      0.961      0.988      0.789\n",
      "                  5_16       4185        445       0.93      0.931      0.971      0.713\n",
      "                5_15_2       4185        440      0.944      0.977      0.987      0.756\n",
      "                  3_24       4185        343      0.931      0.913      0.953      0.726\n",
      "                   2_4       4185        340      0.939      0.953      0.982      0.736\n",
      "                  3_27       4185        290      0.942      0.954      0.977      0.758\n",
      "                  1_23       4185        229      0.953      0.913      0.979       0.73\n",
      "                 4_1_1       4185        196       0.93      0.908      0.963      0.738\n",
      "                  5_20       4185        154       0.95       0.89      0.967      0.737\n",
      "                  3_20       4185        142      0.952      0.974      0.986      0.751\n",
      "                5_15_3       4185        144      0.971      0.917      0.976       0.76\n",
      "                5_15_1       4185        131      0.932      0.945      0.967      0.771\n",
      "              5_15_2_2       4185        116      0.936      0.884      0.971        0.8\n",
      "                  1_17       4185        107      0.908      0.879       0.97      0.709\n",
      "                 4_2_3       4185         76      0.946      0.961      0.977      0.746\n",
      "                5_15_5       4185        108      0.971      0.935       0.99      0.753\n",
      "                 4_2_1       4185        120      0.926      0.941      0.959      0.708\n",
      "                 4_1_4       4185        103      0.848      0.864      0.931      0.725\n",
      "                   7_3       4185         93      0.945      0.926      0.974      0.743\n",
      "                   6_4       4185         96      0.913      0.876      0.935      0.686\n",
      "                  6_16       4185         97      0.925      0.889      0.915      0.666\n",
      "Speed: 0.3ms preprocess, 45.0ms inference, 0.0ms loss, 0.4ms postprocess per image\n",
      "Results saved to \u001b[1mruns/detect/val8\u001b[0m\n"
     ]
    }
   ],
   "source": [
    "metrics = model.val(data=dataset_yaml_path, batch=1, imgsz=640, device=\"cpu\")"
   ]
  },
  {
   "cell_type": "code",
   "execution_count": 9,
   "metadata": {},
   "outputs": [
    {
     "name": "stdout",
     "output_type": "stream",
     "text": [
      "mask map50-95 0.738\n",
      "mask map50 0.967\n",
      "mask map75 0.888\n"
     ]
    }
   ],
   "source": [
    "# оценим метрики для сегментации\n",
    "print(f\"mask map50-95 {metrics.box.map:.3}\")\n",
    "print(f\"mask map50 {metrics.box.map50:.3}\")\n",
    "print(f\"mask map75 {metrics.box.map75:.3}\")"
   ]
  },
  {
   "cell_type": "code",
   "execution_count": 15,
   "metadata": {},
   "outputs": [],
   "source": [
    "def get_files_size_in_mb(directory):\n",
    "    file_sizes = 0\n",
    "    for filename in os.listdir(directory):\n",
    "        file_path = os.path.join(directory, filename)\n",
    "        if os.path.isfile(file_path):\n",
    "            size_in_bytes = os.path.getsize(file_path)\n",
    "            size_in_mb = size_in_bytes / 1024 / 1024\n",
    "            file_sizes += size_in_mb\n",
    "            \n",
    "    return file_sizes"
   ]
  },
  {
   "cell_type": "code",
   "execution_count": 16,
   "metadata": {},
   "outputs": [
    {
     "name": "stdout",
     "output_type": "stream",
     "text": [
      "42.8 Мб\n"
     ]
    }
   ],
   "source": [
    "# оценим размер сериализованной модели\n",
    "model_size = get_files_size_in_mb(model_openvino_path)\n",
    "print(f\"{model_size:.3} Мб\")"
   ]
  },
  {
   "cell_type": "code",
   "execution_count": 17,
   "metadata": {},
   "outputs": [],
   "source": [
    "shutil.rmtree(model_openvino_path)"
   ]
  },
  {
   "cell_type": "markdown",
   "metadata": {},
   "source": [
    "## OpenVino half"
   ]
  },
  {
   "cell_type": "code",
   "execution_count": 18,
   "metadata": {},
   "outputs": [],
   "source": [
    "# создадим чистую исходную модель\n",
    "\n",
    "from ultralytics import YOLO\n",
    "import os\n",
    "\n",
    "# load a pretrained model (recommended for training)\n",
    "model = YOLO(model_path)"
   ]
  },
  {
   "cell_type": "code",
   "execution_count": 19,
   "metadata": {},
   "outputs": [
    {
     "name": "stdout",
     "output_type": "stream",
     "text": [
      "Ultralytics YOLOv8.0.212 🚀 Python-3.10.11 torch-1.13.0+cu117 CPU (12th Gen Intel Core(TM) i5-12600)\n",
      "Model summary (fused): 168 layers, 11134098 parameters, 0 gradients, 28.5 GFLOPs\n",
      "\n",
      "\u001b[34m\u001b[1mPyTorch:\u001b[0m starting from '../models/train/weights/best.pt' with input shape (1, 3, 640, 640) BCHW and output shape(s) (1, 26, 8400) (21.5 MB)\n",
      "\n",
      "\u001b[34m\u001b[1mONNX:\u001b[0m starting export with onnx 1.15.0 opset 16...\n",
      "\u001b[34m\u001b[1mONNX:\u001b[0m export success ✅ 0.5s, saved as '../models/train/weights/best.onnx' (42.7 MB)\n",
      "\n",
      "\u001b[34m\u001b[1mOpenVINO:\u001b[0m starting export with openvino 2023.2.0-13089-cfd42bd2cb0-HEAD...\n",
      "\u001b[34m\u001b[1mOpenVINO:\u001b[0m export success ✅ 0.1s, saved as '../models/train/weights/best_openvino_model/' (21.6 MB)\n",
      "\n",
      "Export complete (1.9s)\n",
      "Results saved to \u001b[1m/home/admin-gpu/Downloads/drivers_helper/models/train/weights\u001b[0m\n",
      "Predict:         yolo predict task=detect model=../models/train/weights/best_openvino_model imgsz=640 half \n",
      "Validate:        yolo val task=detect model=../models/train/weights/best_openvino_model imgsz=640 data=data/RSTD_filtered_yolov5/dataset.yaml half \n",
      "Visualize:       https://netron.app\n"
     ]
    },
    {
     "data": {
      "text/plain": [
       "'../models/train/weights/best_openvino_model'"
      ]
     },
     "execution_count": 19,
     "metadata": {},
     "output_type": "execute_result"
    }
   ],
   "source": [
    "model.export(format=\"openvino\", half=True)"
   ]
  },
  {
   "cell_type": "code",
   "execution_count": 20,
   "metadata": {},
   "outputs": [
    {
     "name": "stdout",
     "output_type": "stream",
     "text": [
      "WARNING ⚠️ Unable to automatically guess model task, assuming 'task=detect'. Explicitly define task for your model, i.e. 'task=detect', 'segment', 'classify', or 'pose'.\n"
     ]
    }
   ],
   "source": [
    "# Load a model\n",
    "model_openvino_path = '../models/train/weights/best_openvino_model'\n",
    "model = YOLO(model_openvino_path)"
   ]
  },
  {
   "cell_type": "markdown",
   "metadata": {},
   "source": [
    "### Измерим параметры на ЦПУ"
   ]
  },
  {
   "cell_type": "code",
   "execution_count": 21,
   "metadata": {},
   "outputs": [
    {
     "name": "stdout",
     "output_type": "stream",
     "text": [
      "Ultralytics YOLOv8.0.212 🚀 Python-3.10.11 torch-1.13.0+cu117 CPU (12th Gen Intel Core(TM) i5-12600)\n",
      "Loading ../models/train/weights/best_openvino_model for OpenVINO inference...\n",
      "Forcing batch=1 square inference (1,3,640,640) for non-PyTorch models\n"
     ]
    },
    {
     "name": "stderr",
     "output_type": "stream",
     "text": [
      "\u001b[34m\u001b[1mval: \u001b[0mScanning /home/admin-gpu/Downloads/drivers_helper/data/processed/RSTD_filtered_yolov5/labels/val.cache... 4185 images, 0 backgrounds, 0 corrupt: 100%|██████████| 4185/4185 [00:00<?, ?it/s]\n",
      "                 Class     Images  Instances      Box(P          R      mAP50  mAP50-95): 100%|██████████| 4185/4185 [03:43<00:00, 18.76it/s]\n"
     ]
    },
    {
     "name": "stdout",
     "output_type": "stream",
     "text": [
      "                   all       4185       6821      0.935      0.923      0.967      0.738\n",
      "                5_19_1       4185       2117        0.9      0.931      0.965      0.727\n",
      "                   2_1       4185        934      0.966      0.961      0.988      0.789\n",
      "                  5_16       4185        445       0.93      0.931      0.971      0.713\n",
      "                5_15_2       4185        440      0.944      0.977      0.987      0.755\n",
      "                  3_24       4185        343      0.931      0.913      0.953      0.726\n",
      "                   2_4       4185        340      0.939      0.953      0.982      0.735\n",
      "                  3_27       4185        290      0.942      0.954      0.977      0.758\n",
      "                  1_23       4185        229      0.953      0.913      0.979       0.73\n",
      "                 4_1_1       4185        196       0.93      0.908      0.963      0.738\n",
      "                  5_20       4185        154       0.95       0.89      0.967      0.737\n",
      "                  3_20       4185        142      0.952      0.974      0.986      0.751\n",
      "                5_15_3       4185        144      0.971      0.917      0.976      0.759\n",
      "                5_15_1       4185        131      0.932      0.945      0.967      0.771\n",
      "              5_15_2_2       4185        116      0.936      0.883      0.971        0.8\n",
      "                  1_17       4185        107      0.909      0.879       0.97      0.709\n",
      "                 4_2_3       4185         76      0.946      0.961      0.977      0.746\n",
      "                5_15_5       4185        108      0.971      0.932       0.99      0.753\n",
      "                 4_2_1       4185        120      0.926      0.941      0.959      0.708\n",
      "                 4_1_4       4185        103      0.848      0.864      0.931      0.725\n",
      "                   7_3       4185         93      0.945      0.926      0.974      0.743\n",
      "                   6_4       4185         96      0.913      0.875      0.935      0.686\n",
      "                  6_16       4185         97      0.925      0.889      0.915      0.666\n",
      "Speed: 0.3ms preprocess, 44.7ms inference, 0.0ms loss, 0.4ms postprocess per image\n",
      "Results saved to \u001b[1mruns/detect/val9\u001b[0m\n"
     ]
    }
   ],
   "source": [
    "metrics = model.val(data=dataset_yaml_path, batch=1, imgsz=640, device=\"cpu\")"
   ]
  },
  {
   "cell_type": "code",
   "execution_count": 22,
   "metadata": {},
   "outputs": [
    {
     "name": "stdout",
     "output_type": "stream",
     "text": [
      "mask map50-95 0.738\n",
      "mask map50 0.967\n",
      "mask map75 0.888\n"
     ]
    }
   ],
   "source": [
    "# оценим метрики для сегментации\n",
    "print(f\"mask map50-95 {metrics.box.map:.3}\")\n",
    "print(f\"mask map50 {metrics.box.map50:.3}\")\n",
    "print(f\"mask map75 {metrics.box.map75:.3}\")"
   ]
  },
  {
   "cell_type": "code",
   "execution_count": 23,
   "metadata": {},
   "outputs": [],
   "source": [
    "def get_files_size_in_mb(directory):\n",
    "    file_sizes = 0\n",
    "    for filename in os.listdir(directory):\n",
    "        file_path = os.path.join(directory, filename)\n",
    "        if os.path.isfile(file_path):\n",
    "            size_in_bytes = os.path.getsize(file_path)\n",
    "            size_in_mb = size_in_bytes / 1024 / 1024\n",
    "            file_sizes += size_in_mb\n",
    "            \n",
    "    return file_sizes"
   ]
  },
  {
   "cell_type": "code",
   "execution_count": 24,
   "metadata": {},
   "outputs": [
    {
     "name": "stdout",
     "output_type": "stream",
     "text": [
      "21.6 Мб\n"
     ]
    }
   ],
   "source": [
    "# оценим размер сериализованной модели\n",
    "model_size = get_files_size_in_mb(model_openvino_path)\n",
    "print(f\"{model_size:.3} Мб\")"
   ]
  },
  {
   "cell_type": "code",
   "execution_count": 49,
   "metadata": {},
   "outputs": [],
   "source": [
    "shutil.rmtree(model_openvino_path)"
   ]
  }
 ],
 "metadata": {
  "kernelspec": {
   "display_name": "homework5-segmentation-u-9vj8JT-py3.10",
   "language": "python",
   "name": "python3"
  },
  "language_info": {
   "codemirror_mode": {
    "name": "ipython",
    "version": 3
   },
   "file_extension": ".py",
   "mimetype": "text/x-python",
   "name": "python",
   "nbconvert_exporter": "python",
   "pygments_lexer": "ipython3",
   "version": "3.10.11"
  }
 },
 "nbformat": 4,
 "nbformat_minor": 2
}
